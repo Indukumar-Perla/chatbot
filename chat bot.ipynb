{
  "nbformat": 4,
  "nbformat_minor": 0,
  "metadata": {
    "colab": {
      "name": "ChatBot.ipynb",
      "provenance": []
    },
    "kernelspec": {
      "name": "python3",
      "display_name": "Python 3"
    },
    "language_info": {
      "name": "python"
    }
  },
  "cells": [
    {
      "cell_type": "code",
      "metadata": {
        "id": "BIyDw7i9AUmx"
      },
      "source": [
        "!pip install rasa==1.10.3\n",
        "!python -m spacy download en\n",
        "!pip install nest_asyncio==1.3.3"
      ],
      "execution_count": null,
      "outputs": []
    },
    {
      "cell_type": "code",
      "metadata": {
        "colab": {
          "base_uri": "https://localhost:8080/"
        },
        "id": "TTB1CRfFD9I_",
        "outputId": "7db7a96b-af0e-418c-9a75-0ff71c699f62"
      },
      "source": [
        "import os\n",
        "import rasa\n",
        "import nest_asyncio\n",
        "nest_asyncio.apply()\n",
        "print(\"event loop ready\")"
      ],
      "execution_count": 11,
      "outputs": [
        {
          "output_type": "stream",
          "text": [
            "event loop ready\n"
          ],
          "name": "stdout"
        }
      ]
    },
    {
      "cell_type": "code",
      "metadata": {
        "id": "jzCXmwa4FBds"
      },
      "source": [
        "from rasa.cli.scaffold import create_initial_project\n",
        "project='test_project'\n",
        "create_initial_project(project)\n",
        "os.chdir(project)\n",
        "print(os.listdir(\".\"))"
      ],
      "execution_count": null,
      "outputs": []
    },
    {
      "cell_type": "code",
      "metadata": {
        "colab": {
          "base_uri": "https://localhost:8080/"
        },
        "id": "05zQs9BLGRvp",
        "outputId": "34989086-704a-473c-b16e-0c627066f831"
      },
      "source": [
        "config = \"config.yml\"\n",
        "training_files = \"data/\"\n",
        "domain = \"domain.yml\"\n",
        "output=\"models/\"\n",
        "print(config, training_files, domain, output)"
      ],
      "execution_count": 20,
      "outputs": [
        {
          "output_type": "stream",
          "text": [
            "config.yml data/ domain.yml models/\n"
          ],
          "name": "stdout"
        }
      ]
    },
    {
      "cell_type": "code",
      "metadata": {
        "colab": {
          "base_uri": "https://localhost:8080/"
        },
        "id": "x0RW37HoK40j",
        "outputId": "d2a3f474-a557-47a2-eed1-42bbbc471f6f"
      },
      "source": [
        "model_path = rasa.train(domain, config, training_files, output)\n",
        "print(model_path)"
      ],
      "execution_count": 24,
      "outputs": [
        {
          "output_type": "stream",
          "text": [
            "\u001b[94mTraining Core model...\u001b[0m\n"
          ],
          "name": "stdout"
        },
        {
          "output_type": "stream",
          "text": [
            "Processed Story Blocks: 100%|██████████| 5/5 [00:00<00:00, 238.00it/s, # trackers=1]\n",
            "Processed Story Blocks: 100%|██████████| 5/5 [00:00<00:00, 210.19it/s, # trackers=5]\n",
            "Processed Story Blocks: 100%|██████████| 5/5 [00:00<00:00, 134.42it/s, # trackers=20]\n",
            "Processed Story Blocks: 100%|██████████| 5/5 [00:00<00:00, 117.60it/s, # trackers=24]\n",
            "Processed trackers: 100%|██████████| 5/5 [00:00<00:00, 75.29it/s, # actions=16]\n",
            "Processed actions: 16it [00:00, 560.90it/s, # examples=16]\n",
            "Processed trackers: 100%|██████████| 231/231 [00:07<00:00, 32.91it/s, # actions=126]\n",
            "Epochs:   0%|          | 0/100 [00:00<?, ?it/s]/usr/local/lib/python3.7/dist-packages/rasa/utils/tensorflow/model_data.py:386: VisibleDeprecationWarning: Creating an ndarray from ragged nested sequences (which is a list-or-tuple of lists-or-tuples-or ndarrays with different lengths or shapes) is deprecated. If you meant to do this, you must specify 'dtype=object' when creating the ndarray\n",
            "  final_data[k].append(np.concatenate(np.array(v)))\n",
            "Epochs: 100%|██████████| 100/100 [00:14<00:00,  6.68it/s, t_loss=0.081, loss=0.010, acc=1.000]\n"
          ],
          "name": "stderr"
        },
        {
          "output_type": "stream",
          "text": [
            "\u001b[94mCore model training completed.\u001b[0m\n",
            "\u001b[94mTraining NLU model...\u001b[0m\n"
          ],
          "name": "stdout"
        },
        {
          "output_type": "stream",
          "text": [
            "\u001b[93m/usr/local/lib/python3.7/dist-packages/rasa/utils/common.py:363: UserWarning: You specified 'DIET' to train entities, but no entities are present in the training data. Skip training of entities.\n",
            "Epochs:   0%|          | 0/100 [00:00<?, ?it/s]/usr/local/lib/python3.7/dist-packages/rasa/utils/tensorflow/model_data.py:386: VisibleDeprecationWarning: Creating an ndarray from ragged nested sequences (which is a list-or-tuple of lists-or-tuples-or ndarrays with different lengths or shapes) is deprecated. If you meant to do this, you must specify 'dtype=object' when creating the ndarray\n",
            "  final_data[k].append(np.concatenate(np.array(v)))\n",
            "Epochs: 100%|██████████| 100/100 [00:16<00:00,  5.97it/s, t_loss=1.498, i_loss=0.118, i_acc=1.000]\n"
          ],
          "name": "stderr"
        },
        {
          "output_type": "stream",
          "text": [
            "\u001b[94mNLU model training completed.\u001b[0m\n",
            "\u001b[92mYour Rasa model is trained and saved at '/content/test_project/test_project/models/20210622-101101.tar.gz'.\u001b[0m\n",
            "models/20210622-101101.tar.gz\n"
          ],
          "name": "stdout"
        }
      ]
    },
    {
      "cell_type": "code",
      "metadata": {
        "colab": {
          "base_uri": "https://localhost:8080/",
          "height": 1000
        },
        "id": "OjKQZmStNBYq",
        "outputId": "b2f74a50-16d9-42fb-b5be-24cf7878cd4b"
      },
      "source": [
        "from rasa.jupyter import chat\n",
        "endpoints = \"endpoints.yml\"\n",
        "chat(model_path, endpoints)"
      ],
      "execution_count": null,
      "outputs": [
        {
          "output_type": "stream",
          "text": [
            "Your bot is ready to talk! Type your messages here or send '/stop'.\n",
            "hello\n",
            "\u001b[92mHey! How are you?\u001b[0m\n",
            "I am aman\n",
            "\u001b[92mGreat, carry on!\u001b[0m\n",
            "my son is vaasu\n",
            "\u001b[92mHere is something to cheer you up:\u001b[0m\n"
          ],
          "name": "stdout"
        },
        {
          "output_type": "display_data",
          "data": {
            "text/html": [
              "<img src=\"https://i.imgur.com/nGF1K8f.jpg\"/>"
            ],
            "text/plain": [
              "<IPython.core.display.Image object>"
            ]
          },
          "metadata": {
            "tags": []
          }
        },
        {
          "output_type": "stream",
          "text": [
            "\u001b[92mDid that help you?\u001b[0m\n",
            "no\n",
            "\u001b[92mBye\u001b[0m\n",
            "how is weather\n",
            "\u001b[92mHey! How are you?\u001b[0m\n",
            "is it rain today?\n",
            "\u001b[92mI am a bot, powered by Rasa.\u001b[0m\n",
            "ok, sing a song\n",
            "\u001b[92mI am a bot, powered by Rasa.\u001b[0m\n",
            "image of a flower\n",
            "\u001b[92mI am a bot, powered by Rasa.\u001b[0m\n",
            "flower image\n",
            "\u001b[92mGreat, carry on!\u001b[0m\n",
            "flower\n",
            "\u001b[92mBye\u001b[0m\n"
          ],
          "name": "stdout"
        }
      ]
    }
  ]
}